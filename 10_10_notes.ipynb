{
  "nbformat": 4,
  "nbformat_minor": 0,
  "metadata": {
    "colab": {
      "provenance": []
    },
    "kernelspec": {
      "name": "python3",
      "display_name": "Python 3"
    },
    "language_info": {
      "name": "python"
    }
  },
  "cells": [
    {
      "cell_type": "code",
      "source": [
        "\n",
        "user_name = input(\"What is your name?\")\n",
        "\n",
        "print(user_name)"
      ],
      "metadata": {
        "colab": {
          "base_uri": "https://localhost:8080/"
        },
        "id": "17i-8sTZI73N",
        "outputId": "4b19c0ee-4b6c-4823-c275-4e07bf298551"
      },
      "execution_count": null,
      "outputs": [
        {
          "output_type": "stream",
          "name": "stdout",
          "text": [
            "What is your name?Julia\n",
            "Julia\n"
          ]
        }
      ]
    },
    {
      "cell_type": "code",
      "source": [
        "user_name = \"Patryk\"\n",
        "\n",
        "print(user_name)"
      ],
      "metadata": {
        "colab": {
          "base_uri": "https://localhost:8080/"
        },
        "id": "Hl4rwr2sNXjt",
        "outputId": "e545c069-b43e-4eea-f10e-e73ac83b841e"
      },
      "execution_count": null,
      "outputs": [
        {
          "output_type": "stream",
          "name": "stdout",
          "text": [
            "Patryk\n"
          ]
        }
      ]
    },
    {
      "cell_type": "code",
      "source": [
        "user_age = input(\"How old are you?\")"
      ],
      "metadata": {
        "id": "hNmSMTRTNrmL",
        "colab": {
          "base_uri": "https://localhost:8080/"
        },
        "outputId": "2778d8f4-90e9-4128-f566-6d3de2fd2eb0"
      },
      "execution_count": 6,
      "outputs": [
        {
          "name": "stdout",
          "output_type": "stream",
          "text": [
            "How old are you?23\n"
          ]
        }
      ]
    },
    {
      "cell_type": "code",
      "source": [
        "user_age_integer = int(user_age)"
      ],
      "metadata": {
        "id": "to4N8jdgN1hm"
      },
      "execution_count": 7,
      "outputs": []
    },
    {
      "cell_type": "code",
      "source": [
        "type(user_age_integer)"
      ],
      "metadata": {
        "colab": {
          "base_uri": "https://localhost:8080/"
        },
        "id": "sUXW7syxOhLn",
        "outputId": "7416f926-416c-483c-d2cd-48c1a4b0d50a"
      },
      "execution_count": 8,
      "outputs": [
        {
          "output_type": "execute_result",
          "data": {
            "text/plain": [
              "int"
            ]
          },
          "metadata": {},
          "execution_count": 8
        }
      ]
    },
    {
      "cell_type": "code",
      "source": [
        "user_age_float = float(user_age)"
      ],
      "metadata": {
        "id": "wwf6_sPbOrC0"
      },
      "execution_count": 9,
      "outputs": []
    },
    {
      "cell_type": "code",
      "source": [
        "type(user_age_float)"
      ],
      "metadata": {
        "colab": {
          "base_uri": "https://localhost:8080/"
        },
        "id": "4OAhIaQ_O1US",
        "outputId": "cdc30c29-e6a8-4971-d3cf-6877e387e2b0"
      },
      "execution_count": 10,
      "outputs": [
        {
          "output_type": "execute_result",
          "data": {
            "text/plain": [
              "float"
            ]
          },
          "metadata": {},
          "execution_count": 10
        }
      ]
    },
    {
      "cell_type": "code",
      "source": [
        "user_age2 = input(\"How old are you?\")"
      ],
      "metadata": {
        "colab": {
          "base_uri": "https://localhost:8080/"
        },
        "id": "i4L-gmvHO4l6",
        "outputId": "6a6cac05-16cd-44fb-a102-b3115ba513c6"
      },
      "execution_count": 11,
      "outputs": [
        {
          "name": "stdout",
          "output_type": "stream",
          "text": [
            "How old are you?19\n"
          ]
        }
      ]
    },
    {
      "cell_type": "code",
      "source": [
        "user_age2.isdigit()"
      ],
      "metadata": {
        "colab": {
          "base_uri": "https://localhost:8080/"
        },
        "id": "cuh0BEkqQUlC",
        "outputId": "eda1b476-85cd-453d-cd41-f70430227912"
      },
      "execution_count": 16,
      "outputs": [
        {
          "output_type": "execute_result",
          "data": {
            "text/plain": [
              "True"
            ]
          },
          "metadata": {},
          "execution_count": 16
        }
      ]
    },
    {
      "cell_type": "code",
      "source": [
        "user_age = \"18 years old\""
      ],
      "metadata": {
        "id": "t2cMd1wDQ4Hv"
      },
      "execution_count": null,
      "outputs": []
    },
    {
      "cell_type": "code",
      "source": [
        "user_age = \"ANIA\""
      ],
      "metadata": {
        "id": "Z7-JAkCARdbQ"
      },
      "execution_count": 25,
      "outputs": []
    },
    {
      "cell_type": "code",
      "source": [
        "CONDITIONALS"
      ],
      "metadata": {
        "id": "dZHwOHGMPOlg"
      },
      "execution_count": 15,
      "outputs": []
    },
    {
      "cell_type": "code",
      "source": [
        "if user_age.isdigit():\n",
        "  print(\"okay\")\n",
        "elif user_age.isupper():         #I can write as many elifs as I want\n",
        "  print(\"user age is upper\")\n",
        "else:                            #printed only if none of the above is true\n",
        "  print(\"not okay\")\n"
      ],
      "metadata": {
        "colab": {
          "base_uri": "https://localhost:8080/"
        },
        "id": "QgZpjFBNQBsX",
        "outputId": "959f416c-ea9e-49b4-865a-059f9b28330e"
      },
      "execution_count": 30,
      "outputs": [
        {
          "output_type": "stream",
          "name": "stdout",
          "text": [
            "user age is upper\n"
          ]
        }
      ]
    },
    {
      "cell_type": "code",
      "source": [
        "user_age3 = input(\"How old are you?\")\n",
        "\n",
        "\n",
        "if user_age3.isdigit():\n",
        "  user_age3_integer = int(user_age3)\n",
        "  print(user_age3_integer + 10)\n",
        "else:\n",
        "  print(\"invalid data\")\n",
        "\n"
      ],
      "metadata": {
        "colab": {
          "base_uri": "https://localhost:8080/"
        },
        "id": "YrfeFGA5RP5X",
        "outputId": "e9b1a976-74e5-4300-fc97-5fb25f0badde"
      },
      "execution_count": 34,
      "outputs": [
        {
          "output_type": "stream",
          "name": "stdout",
          "text": [
            "How old are you?10\n",
            "20\n"
          ]
        }
      ]
    },
    {
      "cell_type": "code",
      "source": [
        "Homework"
      ],
      "metadata": {
        "id": "wP33U25WbArs"
      },
      "execution_count": null,
      "outputs": []
    },
    {
      "cell_type": "code",
      "source": [
        "number_1 = input()\n",
        "\n",
        "number_1_int = int(number_1)"
      ],
      "metadata": {
        "colab": {
          "base_uri": "https://localhost:8080/"
        },
        "id": "t0wy8KUgcJRe",
        "outputId": "6cd1becd-0ea8-44a2-d478-ca5282507e75"
      },
      "execution_count": 89,
      "outputs": [
        {
          "name": "stdout",
          "output_type": "stream",
          "text": [
            "3\n"
          ]
        }
      ]
    },
    {
      "cell_type": "code",
      "source": [
        "number_2 = input()\n",
        "\n",
        "number_2_int = int(number_2)"
      ],
      "metadata": {
        "colab": {
          "base_uri": "https://localhost:8080/"
        },
        "id": "Plnwl6Ojgfi-",
        "outputId": "76cebcf5-b833-4a6b-cd3b-7e1de13e76aa"
      },
      "execution_count": 90,
      "outputs": [
        {
          "name": "stdout",
          "output_type": "stream",
          "text": [
            "6\n"
          ]
        }
      ]
    },
    {
      "cell_type": "code",
      "source": [
        "operation = input()"
      ],
      "metadata": {
        "colab": {
          "base_uri": "https://localhost:8080/"
        },
        "id": "yhhlHLcTgvY0",
        "outputId": "5c48b05d-beba-4d62-cadc-8a6885af41eb"
      },
      "execution_count": 97,
      "outputs": [
        {
          "name": "stdout",
          "output_type": "stream",
          "text": [
            "*\n"
          ]
        }
      ]
    },
    {
      "cell_type": "code",
      "source": [
        "if operation == '+':\n",
        "  print(number_1_int + number_2_int)\n",
        "elif operation == '-':\n",
        "  print(number_1_int - number_2_int)\n",
        "elif operation == '*':\n",
        "  print(number_1_int * number_2_int)\n",
        "elif operation == '/':\n",
        "  print(number_1_int / number_2_int)\n",
        "else:\n",
        "  print (\"Invalid input\")"
      ],
      "metadata": {
        "colab": {
          "base_uri": "https://localhost:8080/"
        },
        "id": "y8V0VhKRgzlV",
        "outputId": "351d2067-c776-4d22-ad67-61c238442898"
      },
      "execution_count": 98,
      "outputs": [
        {
          "output_type": "stream",
          "name": "stdout",
          "text": [
            "18\n"
          ]
        }
      ]
    },
    {
      "cell_type": "code",
      "source": [
        "user_name = input(\"First name\")"
      ],
      "metadata": {
        "colab": {
          "base_uri": "https://localhost:8080/"
        },
        "id": "n2ud84G8Y9zE",
        "outputId": "afb1cfc6-10f1-4137-d12a-162328e2b272"
      },
      "execution_count": 48,
      "outputs": [
        {
          "name": "stdout",
          "output_type": "stream",
          "text": [
            "First nameJulia\n"
          ]
        }
      ]
    },
    {
      "cell_type": "code",
      "source": [
        "user_last_name = input(\"Last name\")"
      ],
      "metadata": {
        "colab": {
          "base_uri": "https://localhost:8080/"
        },
        "id": "j7JCxNnpZDmP",
        "outputId": "16da7413-4200-4ab5-d23c-e80e8e4607eb"
      },
      "execution_count": 51,
      "outputs": [
        {
          "name": "stdout",
          "output_type": "stream",
          "text": [
            "Last nameD\n"
          ]
        }
      ]
    },
    {
      "cell_type": "code",
      "source": [
        "user_age = input(\"Age\")\n"
      ],
      "metadata": {
        "colab": {
          "base_uri": "https://localhost:8080/"
        },
        "id": "q9Vg0Ef_ZLsc",
        "outputId": "0ae3402e-fef3-40c3-9db2-9009c6aef646"
      },
      "execution_count": 52,
      "outputs": [
        {
          "name": "stdout",
          "output_type": "stream",
          "text": [
            "Age23\n"
          ]
        }
      ]
    },
    {
      "cell_type": "code",
      "source": [
        "password = input(\"Password\")\n"
      ],
      "metadata": {
        "colab": {
          "base_uri": "https://localhost:8080/"
        },
        "id": "RO033cuyZPMu",
        "outputId": "2487f99d-1aee-4372-ec55-c60cbe436a56"
      },
      "execution_count": 54,
      "outputs": [
        {
          "name": "stdout",
          "output_type": "stream",
          "text": [
            "Passwordjeden\n"
          ]
        }
      ]
    },
    {
      "cell_type": "code",
      "source": [
        "password2 = input(\"Repeat password\")\n"
      ],
      "metadata": {
        "colab": {
          "base_uri": "https://localhost:8080/"
        },
        "id": "olKwzwDlZWSk",
        "outputId": "d7ec66a2-260d-4dfe-e3de-9fa3970199e3"
      },
      "execution_count": 60,
      "outputs": [
        {
          "name": "stdout",
          "output_type": "stream",
          "text": [
            "Repeat passwordjeden\n"
          ]
        }
      ]
    },
    {
      "cell_type": "code",
      "source": [
        "if password == password2:\n",
        "  print(\"ok\")\n",
        "else:\n",
        "  print(\"Passwords do not match.\")"
      ],
      "metadata": {
        "colab": {
          "base_uri": "https://localhost:8080/"
        },
        "id": "3qa0DqdWZW6i",
        "outputId": "eb6d021c-22e4-4db9-c3a8-e7e444037dd8"
      },
      "execution_count": 61,
      "outputs": [
        {
          "output_type": "stream",
          "name": "stdout",
          "text": [
            "ok\n"
          ]
        }
      ]
    },
    {
      "cell_type": "code",
      "source": [
        "user_phone_number = input(\"Phone number\")\n",
        "\n",
        "len(user_phone_number)"
      ],
      "metadata": {
        "colab": {
          "base_uri": "https://localhost:8080/"
        },
        "id": "OgqxRfATZXhB",
        "outputId": "2218fe5b-ff2b-4c77-cb8e-36f804d31edb"
      },
      "execution_count": 100,
      "outputs": [
        {
          "name": "stdout",
          "output_type": "stream",
          "text": [
            "Phone number123456789\n"
          ]
        },
        {
          "output_type": "execute_result",
          "data": {
            "text/plain": [
              "9"
            ]
          },
          "metadata": {},
          "execution_count": 100
        }
      ]
    },
    {
      "cell_type": "code",
      "source": [
        "if user_phone_number.isdigit():\n",
        "  print(\"ok\")\n",
        "else:\n",
        "  print(\"Invalid phone number\")"
      ],
      "metadata": {
        "colab": {
          "base_uri": "https://localhost:8080/"
        },
        "id": "eA24lYDLZzOT",
        "outputId": "bb633338-66d3-49a0-b5fd-4501feb9909c"
      },
      "execution_count": 101,
      "outputs": [
        {
          "output_type": "stream",
          "name": "stdout",
          "text": [
            "ok\n"
          ]
        }
      ]
    },
    {
      "cell_type": "code",
      "source": [
        "if len(user_phone_number) == 9:\n",
        "  print(\"ok\")\n",
        "else:\n",
        "  print(\"Invalid phone number\")"
      ],
      "metadata": {
        "colab": {
          "base_uri": "https://localhost:8080/"
        },
        "id": "11nwafjuiufg",
        "outputId": "9cacb2b6-3615-46a6-cbc9-a322dbce2e9e"
      },
      "execution_count": 102,
      "outputs": [
        {
          "output_type": "stream",
          "name": "stdout",
          "text": [
            "ok\n"
          ]
        }
      ]
    },
    {
      "cell_type": "code",
      "source": [
        "print(user_name, user_last_name, user_age, password, user_phone_number)"
      ],
      "metadata": {
        "colab": {
          "base_uri": "https://localhost:8080/"
        },
        "id": "s1Tw8ROIaqGi",
        "outputId": "986c40ee-28af-4d18-b34d-ddbdb796b4c4"
      },
      "execution_count": 103,
      "outputs": [
        {
          "output_type": "stream",
          "name": "stdout",
          "text": [
            "Julia D 23 jeden 123456789\n"
          ]
        }
      ]
    }
  ]
}