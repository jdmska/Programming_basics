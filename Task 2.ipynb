{
  "nbformat": 4,
  "nbformat_minor": 0,
  "metadata": {
    "colab": {
      "provenance": []
    },
    "kernelspec": {
      "name": "python3",
      "display_name": "Python 3"
    },
    "language_info": {
      "name": "python"
    }
  },
  "cells": [
    {
      "cell_type": "code",
      "source": [
        "number_1 = input()\n",
        "\n",
        "number_1_int = int(number_1)"
      ],
      "metadata": {
        "colab": {
          "base_uri": "https://localhost:8080/"
        },
        "id": "t0wy8KUgcJRe",
        "outputId": "6cd1becd-0ea8-44a2-d478-ca5282507e75"
      },
      "execution_count": 89,
      "outputs": [
        {
          "name": "stdout",
          "output_type": "stream",
          "text": [
            "3\n"
          ]
        }
      ]
    },
    {
      "cell_type": "code",
      "source": [
        "number_2 = input()\n",
        "\n",
        "number_2_int = int(number_2)"
      ],
      "metadata": {
        "colab": {
          "base_uri": "https://localhost:8080/"
        },
        "id": "Plnwl6Ojgfi-",
        "outputId": "76cebcf5-b833-4a6b-cd3b-7e1de13e76aa"
      },
      "execution_count": 90,
      "outputs": [
        {
          "name": "stdout",
          "output_type": "stream",
          "text": [
            "6\n"
          ]
        }
      ]
    },
    {
      "cell_type": "code",
      "source": [
        "operation = input()"
      ],
      "metadata": {
        "colab": {
          "base_uri": "https://localhost:8080/"
        },
        "id": "yhhlHLcTgvY0",
        "outputId": "5c48b05d-beba-4d62-cadc-8a6885af41eb"
      },
      "execution_count": 97,
      "outputs": [
        {
          "name": "stdout",
          "output_type": "stream",
          "text": [
            "*\n"
          ]
        }
      ]
    },
    {
      "cell_type": "code",
      "source": [
        "if operation == '+':\n",
        "  print(number_1_int + number_2_int)\n",
        "elif operation == '-':\n",
        "  print(number_1_int - number_2_int)\n",
        "elif operation == '*':\n",
        "  print(number_1_int * number_2_int)\n",
        "elif operation == '/':\n",
        "  print(number_1_int / number_2_int)\n",
        "else:\n",
        "  print (\"Invalid input\")"
      ],
      "metadata": {
        "colab": {
          "base_uri": "https://localhost:8080/"
        },
        "id": "y8V0VhKRgzlV",
        "outputId": "351d2067-c776-4d22-ad67-61c238442898"
      },
      "execution_count": 98,
      "outputs": [
        {
          "output_type": "stream",
          "name": "stdout",
          "text": [
            "18\n"
          ]
        }
      ]
    },
    {
      "cell_type": "code",
      "source": [
        "user_name = input(\"First name\")"
      ],
      "metadata": {
        "colab": {
          "base_uri": "https://localhost:8080/"
        },
        "id": "n2ud84G8Y9zE",
        "outputId": "afb1cfc6-10f1-4137-d12a-162328e2b272"
      },
      "execution_count": 48,
      "outputs": [
        {
          "name": "stdout",
          "output_type": "stream",
          "text": [
            "First nameJulia\n"
          ]
        }
      ]
    },
    {
      "cell_type": "code",
      "source": [
        "user_last_name = input(\"Last name\")"
      ],
      "metadata": {
        "colab": {
          "base_uri": "https://localhost:8080/"
        },
        "id": "j7JCxNnpZDmP",
        "outputId": "16da7413-4200-4ab5-d23c-e80e8e4607eb"
      },
      "execution_count": 51,
      "outputs": [
        {
          "name": "stdout",
          "output_type": "stream",
          "text": [
            "Last nameD\n"
          ]
        }
      ]
    },
    {
      "cell_type": "code",
      "source": [
        "user_age = input(\"Age\")\n"
      ],
      "metadata": {
        "colab": {
          "base_uri": "https://localhost:8080/"
        },
        "id": "q9Vg0Ef_ZLsc",
        "outputId": "0ae3402e-fef3-40c3-9db2-9009c6aef646"
      },
      "execution_count": 52,
      "outputs": [
        {
          "name": "stdout",
          "output_type": "stream",
          "text": [
            "Age23\n"
          ]
        }
      ]
    },
    {
      "cell_type": "code",
      "source": [
        "password = input(\"Password\")\n"
      ],
      "metadata": {
        "colab": {
          "base_uri": "https://localhost:8080/"
        },
        "id": "RO033cuyZPMu",
        "outputId": "2487f99d-1aee-4372-ec55-c60cbe436a56"
      },
      "execution_count": 54,
      "outputs": [
        {
          "name": "stdout",
          "output_type": "stream",
          "text": [
            "Passwordjeden\n"
          ]
        }
      ]
    },
    {
      "cell_type": "code",
      "source": [
        "password2 = input(\"Repeat password\")\n"
      ],
      "metadata": {
        "colab": {
          "base_uri": "https://localhost:8080/"
        },
        "id": "olKwzwDlZWSk",
        "outputId": "d7ec66a2-260d-4dfe-e3de-9fa3970199e3"
      },
      "execution_count": 60,
      "outputs": [
        {
          "name": "stdout",
          "output_type": "stream",
          "text": [
            "Repeat passwordjeden\n"
          ]
        }
      ]
    },
    {
      "cell_type": "code",
      "source": [
        "if password == password2:\n",
        "  print(\"ok\")\n",
        "else:\n",
        "  print(\"Passwords do not match.\")"
      ],
      "metadata": {
        "colab": {
          "base_uri": "https://localhost:8080/"
        },
        "id": "3qa0DqdWZW6i",
        "outputId": "eb6d021c-22e4-4db9-c3a8-e7e444037dd8"
      },
      "execution_count": 61,
      "outputs": [
        {
          "output_type": "stream",
          "name": "stdout",
          "text": [
            "ok\n"
          ]
        }
      ]
    },
    {
      "cell_type": "code",
      "source": [
        "user_phone_number = input(\"Phone number\")\n",
        "\n",
        "len(user_phone_number)"
      ],
      "metadata": {
        "colab": {
          "base_uri": "https://localhost:8080/"
        },
        "id": "OgqxRfATZXhB",
        "outputId": "2218fe5b-ff2b-4c77-cb8e-36f804d31edb"
      },
      "execution_count": 100,
      "outputs": [
        {
          "name": "stdout",
          "output_type": "stream",
          "text": [
            "Phone number123456789\n"
          ]
        },
        {
          "output_type": "execute_result",
          "data": {
            "text/plain": [
              "9"
            ]
          },
          "metadata": {},
          "execution_count": 100
        }
      ]
    },
    {
      "cell_type": "code",
      "source": [
        "if user_phone_number.isdigit():\n",
        "  print(\"ok\")\n",
        "else:\n",
        "  print(\"Invalid phone number\")"
      ],
      "metadata": {
        "colab": {
          "base_uri": "https://localhost:8080/"
        },
        "id": "eA24lYDLZzOT",
        "outputId": "bb633338-66d3-49a0-b5fd-4501feb9909c"
      },
      "execution_count": 101,
      "outputs": [
        {
          "output_type": "stream",
          "name": "stdout",
          "text": [
            "ok\n"
          ]
        }
      ]
    },
    {
      "cell_type": "code",
      "source": [
        "if len(user_phone_number) == 9:\n",
        "  print(\"ok\")\n",
        "else:\n",
        "  print(\"Invalid phone number\")"
      ],
      "metadata": {
        "colab": {
          "base_uri": "https://localhost:8080/"
        },
        "id": "11nwafjuiufg",
        "outputId": "9cacb2b6-3615-46a6-cbc9-a322dbce2e9e"
      },
      "execution_count": 102,
      "outputs": [
        {
          "output_type": "stream",
          "name": "stdout",
          "text": [
            "ok\n"
          ]
        }
      ]
    },
    {
      "cell_type": "code",
      "source": [
        "print(user_name, user_last_name, user_age, password, user_phone_number)"
      ],
      "metadata": {
        "colab": {
          "base_uri": "https://localhost:8080/"
        },
        "id": "s1Tw8ROIaqGi",
        "outputId": "986c40ee-28af-4d18-b34d-ddbdb796b4c4"
      },
      "execution_count": 103,
      "outputs": [
        {
          "output_type": "stream",
          "name": "stdout",
          "text": [
            "Julia D 23 jeden 123456789\n"
          ]
        }
      ]
    }
  ]
}